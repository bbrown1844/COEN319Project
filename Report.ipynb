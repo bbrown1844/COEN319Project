{
 "cells": [
  {
   "cell_type": "markdown",
   "metadata": {},
   "source": [
    "# <center> An Analysis of CUDA vs OpenMP vs OpenACC </center><a class=\"tocSkip\">\n",
    "<center>Ben Brown, I Chang, Alex Whelan</center>"
   ]
  },
  {
   "cell_type": "markdown",
   "metadata": {},
   "source": [
    "# Introduction"
   ]
  },
  {
   "cell_type": "markdown",
   "metadata": {},
   "source": [
    "## Overview"
   ]
  },
  {
   "cell_type": "markdown",
   "metadata": {},
   "source": [
    "For this project we compared different implementations of dense matrix multiplication in three different programming languages - OpenMP, OpenACC and CUDA and compared their performance. All three languages implemented a parallel version of the standard serial matrix multiplication algorithm. The goal of the project was to see which language could achieve the best performance and highlight the benefits of that particular language in relation to parallel programming. For each language we tried to keep the same decomposition methods as close as possible, in order to evaluate the differences in execution time that weren't dependent on algorithmic advantages or cache locality. The main caveat to this was that the OpenACC and CUDA programs were run on a GPU. In addition, we also implemented our own version of Strassen's matrix multiplication algorithm to see how much more performance we could achieve with our implementation. "
   ]
  },
  {
   "cell_type": "markdown",
   "metadata": {},
   "source": [
    "## Languages"
   ]
  },
  {
   "cell_type": "markdown",
   "metadata": {},
   "source": [
    "Reasons for each language:"
   ]
  },
  {
   "cell_type": "markdown",
   "metadata": {},
   "source": [
    "## Choice of Algorithm "
   ]
  },
  {
   "cell_type": "markdown",
   "metadata": {},
   "source": [
    "We chose matrix to matrix multiplication as our algorithm because it offer a lot of room for parallelization, which displays the power of the parallel languages with minimal overhead. "
   ]
  },
  {
   "cell_type": "markdown",
   "metadata": {},
   "source": [
    "# System Design and Implementation"
   ]
  },
  {
   "cell_type": "markdown",
   "metadata": {},
   "source": [
    "## Environment:"
   ]
  },
  {
   "cell_type": "markdown",
   "metadata": {},
   "source": [
    "All agorithms were run on the HPC in the same SLURM environment. \n",
    "The SLURM environemnt was defined as following:\n",
    "\n",
    "list environment"
   ]
  }
 ],
 "metadata": {
  "kernelspec": {
   "display_name": "Python 3",
   "language": "python",
   "name": "python3"
  },
  "language_info": {
   "codemirror_mode": {
    "name": "ipython",
    "version": 3
   },
   "file_extension": ".py",
   "mimetype": "text/x-python",
   "name": "python",
   "nbconvert_exporter": "python",
   "pygments_lexer": "ipython3",
   "version": "3.6.7"
  },
  "toc": {
   "base_numbering": "1",
   "nav_menu": {},
   "number_sections": true,
   "sideBar": true,
   "skip_h1_title": false,
   "title_cell": "Table of Contents",
   "title_sidebar": "Contents",
   "toc_cell": false,
   "toc_position": {
    "height": "calc(100% - 180px)",
    "left": "10px",
    "top": "150px",
    "width": "332px"
   },
   "toc_section_display": true,
   "toc_window_display": true
  }
 },
 "nbformat": 4,
 "nbformat_minor": 2
}
